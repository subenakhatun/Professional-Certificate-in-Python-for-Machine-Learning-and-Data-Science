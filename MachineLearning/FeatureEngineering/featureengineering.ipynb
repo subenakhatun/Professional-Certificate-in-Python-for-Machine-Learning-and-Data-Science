{
 "cells": [
  {
   "cell_type": "markdown",
   "metadata": {},
   "source": [
    "# Feature Engineering\n",
    "Feature engineering is the process of using domain knowlwdge to extract features from raw data. These features can be used to improve the perforamnce of machine learning."
   ]
  },
  {
   "cell_type": "markdown",
   "metadata": {},
   "source": [
    "মেশিন লার্নিং এর মডেল Deploy  করার আগে  Domain knowledge  অনুযায়ী  Data কে  preprocessing  যেমন  null value  বাদ দেয়া,  Feature (column) , unnecessary column  বাদ দেয়া বা প্রয়োজন অনুযায়ী নতুন  colum  তৈরি করা এবং তারপরে  machine learing model deploy  করার  full process এয়  feature engineering."
   ]
  },
  {
   "cell_type": "markdown",
   "metadata": {},
   "source": []
  }
 ],
 "metadata": {
  "language_info": {
   "name": "python"
  }
 },
 "nbformat": 4,
 "nbformat_minor": 2
}
