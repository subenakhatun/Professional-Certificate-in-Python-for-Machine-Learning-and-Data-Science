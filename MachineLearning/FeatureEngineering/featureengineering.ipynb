{
 "cells": [
  {
   "cell_type": "markdown",
   "metadata": {},
   "source": [
    "# Feature Engineering\n",
    "Feature engineering is the process of using domain knowlwdge to extract features from raw data. These features can be used to improve the perforamnce of machine learning."
   ]
  },
  {
   "cell_type": "markdown",
   "metadata": {},
   "source": [
    "মেশিন লার্নিং এর মডেল Deploy  করার আগে  Domain knowledge  অনুযায়ী  Data কে  preprocessing  যেমন  null value  বাদ দেয়া,  Feature (column) , unnecessary column  বাদ দেয়া বা প্রয়োজন অনুযায়ী নতুন  colum  তৈরি করা এবং তারপরে  machine learing model deploy  করার  full process এয়  feature engineering."
   ]
  },
  {
   "cell_type": "markdown",
   "metadata": {},
   "source": [
    "## Feature Engineering \n",
    "* Feature transformation:\n",
    "transform input columns.\n",
    "* Feature construction: \n",
    "if need create new features manually fro better result.\n",
    "* Feature Selection:\n",
    "unnecessary features need to remove.\n",
    "* Feature Extraction:\n",
    "from given fetures create new features in a programmable way not manually. use it for high dimentional data. "
   ]
  },
  {
   "cell_type": "markdown",
   "metadata": {},
   "source": [
    "### 1. Feature Transformation steps: transform input columns in different columns.\n",
    "* Missing value imputation: Before train data need to remove or fill null values using mean median and mode.\n",
    "* Handaling categorical Features: convert categorical value into numerial value because machine learing best output need to numerical value. that's mans transform into different from using one hot encoding.\n",
    "* Outlier Detection: remove outlier for best fit model.\n",
    "* Feature scaling: numerical input data scle or range given or create for continus data."
   ]
  },
  {
   "cell_type": "markdown",
   "metadata": {},
   "source": [
    "### What is feature scaling?\n",
    "Feature scaling is a technique to standardize the independent features presnt in the data in a fixed range. মানে ছোট  range  এ নিয়ে আসা। <br>\n",
    "#### Types of scaling:\n",
    "* Standardization also called z-score Normalization\n",
    "* Normalization: 1, minimize scaler. 2, Robus scalar\n",
    "\n",
    "#### Formula of standardization:\n",
    "xi = xi - mean(x)/standarddeviation <br>\n",
    "mean = 0 and sd = 1 . always"
   ]
  },
  {
   "cell_type": "markdown",
   "metadata": {},
   "source": []
  }
 ],
 "metadata": {
  "language_info": {
   "name": "python"
  }
 },
 "nbformat": 4,
 "nbformat_minor": 2
}
