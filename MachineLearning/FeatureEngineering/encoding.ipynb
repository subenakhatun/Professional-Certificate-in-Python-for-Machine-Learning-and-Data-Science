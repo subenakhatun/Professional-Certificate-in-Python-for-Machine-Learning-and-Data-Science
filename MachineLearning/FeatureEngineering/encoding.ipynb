{
 "cells": [
  {
   "cell_type": "markdown",
   "metadata": {},
   "source": [
    "## ENcoding Categorical Data, Ordinal and normal encoding\n",
    "### Data types:\n",
    "1. Numerical - age, height\n",
    "2. Categoricial - gender, position\n",
    "#### Categorical 2 types\n",
    "1. Nominal- No realtion or no order - country\n",
    "2. Ordinal - realtion and order both- students position\n"
   ]
  },
  {
   "cell_type": "markdown",
   "metadata": {},
   "source": []
  }
 ],
 "metadata": {
  "language_info": {
   "name": "python"
  }
 },
 "nbformat": 4,
 "nbformat_minor": 2
}
