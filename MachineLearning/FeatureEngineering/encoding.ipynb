{
 "cells": [
  {
   "cell_type": "markdown",
   "metadata": {},
   "source": [
    "## ENcoding Categorical Data, Ordinal and normal encoding\n",
    "### Data types:\n",
    "1. Numerical - age, height\n",
    "2. Categoricial - gender, position\n",
    "#### Categorical 2 types\n",
    "1. Nominal- No realtion or no order - country\n",
    "2. Ordinal - realtion and order both- students position\n"
   ]
  },
  {
   "cell_type": "markdown",
   "metadata": {},
   "source": [
    "### How to encode categorical data:\n",
    "Given data always string formet, so first convert data into numerical. \n",
    "1. Ordinal encoding way-- always ordinal data\n",
    "2. One hot encoding way -- always nominal data\n",
    "3. Label encoding way -- similar to ordinal data. label encoding use for output data"
   ]
  },
  {
   "cell_type": "markdown",
   "metadata": {},
   "source": [
    "### Start Ecoding"
   ]
  },
  {
   "cell_type": "code",
   "execution_count": 1,
   "metadata": {},
   "outputs": [],
   "source": [
    "import numpy as np\n",
    "import pandas as pd"
   ]
  },
  {
   "cell_type": "code",
   "execution_count": null,
   "metadata": {},
   "outputs": [],
   "source": []
  }
 ],
 "metadata": {
  "kernelspec": {
   "display_name": "Python 3",
   "language": "python",
   "name": "python3"
  },
  "language_info": {
   "codemirror_mode": {
    "name": "ipython",
    "version": 3
   },
   "file_extension": ".py",
   "mimetype": "text/x-python",
   "name": "python",
   "nbconvert_exporter": "python",
   "pygments_lexer": "ipython3",
   "version": "3.12.1"
  }
 },
 "nbformat": 4,
 "nbformat_minor": 2
}
