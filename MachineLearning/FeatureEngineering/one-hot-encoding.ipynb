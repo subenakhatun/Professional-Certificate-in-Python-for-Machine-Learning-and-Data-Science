{
 "cells": [
  {
   "cell_type": "markdown",
   "metadata": {},
   "source": [
    "## One hat encoding\n",
    "One-hot encoding is a technique used to convert categorical data into a numerical format that machine learning models can process. It represents each category as a binary vector where only one element is \"1\" (hot) and the rest are \"0\" (cold). <br>\n",
    "Example:\n",
    "Let's say we have a categorical feature \"Color\" with three unique values:\n",
    "Red, Green, Blue\n",
    "\n",
    "Color\tOne-Hot Encoding\n",
    "Red\t[1, 0, 0]\n",
    "Green\t[0, 1, 0]\n",
    "Blue\t[0, 0, 1]\n",
    "Each unique category gets its own column, and only one column is \"hot\" (1) for each data point."
   ]
  },
  {
   "cell_type": "markdown",
   "metadata": {},
   "source": []
  }
 ],
 "metadata": {
  "language_info": {
   "name": "python"
  }
 },
 "nbformat": 4,
 "nbformat_minor": 2
}
