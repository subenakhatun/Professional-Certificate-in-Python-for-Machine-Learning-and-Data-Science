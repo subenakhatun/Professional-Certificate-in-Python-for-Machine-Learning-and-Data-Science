{
 "cells": [
  {
   "cell_type": "markdown",
   "metadata": {},
   "source": [
    "## Normalization\n",
    "NOrmalization is a technique after applied as part of data prepraration fro machine learning . The goal of <br>normalization is to change the values of numeric columns in the datasets to use a common scale without distrosing <br>difference in the ranges of values or losing information. <br>\n",
    "\n",
    "#### Types of Normalization:\n",
    "* MinMax Scaling\n",
    "* Mean Normalization\n",
    "* Max absolute scaling\n",
    "* Robust scaling"
   ]
  },
  {
   "cell_type": "markdown",
   "metadata": {},
   "source": []
  }
 ],
 "metadata": {
  "language_info": {
   "name": "python"
  }
 },
 "nbformat": 4,
 "nbformat_minor": 2
}
