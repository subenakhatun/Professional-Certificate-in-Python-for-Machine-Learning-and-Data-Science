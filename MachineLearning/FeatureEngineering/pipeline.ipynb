{
 "cells": [
  {
   "cell_type": "markdown",
   "metadata": {},
   "source": [
    "## Pipeline:\n",
    "Pipelines chains together multiple steps so that the output of each step is used as input to the next step.<br>\n",
    "Pipelines makes it easy to apply the same preprocessing to train and test."
   ]
  },
  {
   "cell_type": "markdown",
   "metadata": {},
   "source": [
    "পাইপলাইন (Pipeline) হল একটি স্বয়ংক্রিয় ও সংগঠিত ওয়ার্কফ্লো, যেখানে ডেটা প্রসেসিং, মডেল ট্রেনিং এবং প্রেডিকশন ধাপে ধাপে স্বয়ংক্রিয়ভাবে পরিচালিত হয়। পাইপলাইন ব্যবহার করলে কোড ম্যানেজমেন্ট সহজ হয় এবং পুনরায় ব্যবহারযোগ্য (reusable) মডেল তৈরি করা যায়।<br>\n",
    "### Pipeline তৈরির কারণ\n",
    "1. Code Reusability – বারবার কোড লিখতে হয় না\n",
    "2. Automation – প্রতিবার ম্যানুয়ালি কাজ করতে হয় না\n",
    "3. Efficiency – সময় ও প্রসেসিং পাওয়ার বাঁচায়\n",
    "4. Consistency – সব সময় নির্ভুল ফলাফল দেয় <br>\n",
    "\n",
    "ডেটা সংগ্রহ  → প্রিপ্রসেসিং(Remove missing values using simpleimputer) → ফিচার ইঞ্জিনিয়ারিং(OneHotencoding) -> Feature seletion best 5 to 10 → মডেল ট্রেনিং → মূল্যায়ন → ডিপ্লয়মেন্ট"
   ]
  },
  {
   "cell_type": "code",
   "execution_count": 2,
   "metadata": {},
   "outputs": [],
   "source": [
    "import numpy as np\n",
    "import pandas as pd"
   ]
  },
  {
   "cell_type": "markdown",
   "metadata": {},
   "source": [
    "### Import all from sklearn\n",
    "1. train_test_split -> fro train and test dataset\n",
    "2. ClumnTransformer - use it to transform columns\n",
    "3. SimpleImputer - > use it for missing values fill.\n",
    "4. OneHotEncoder - use it for new columns or featurs create\n",
    "5. MinMaxscaler -- convert columns into scaling 0 to 1\n",
    "6. Pipeline, make_piple -> use it dor doing all this in a line \n",
    "7. SelectkBest -- best or top 5to 10 fetures selection\n",
    "8. DecsiionTree- use this algorithm for model "
   ]
  },
  {
   "cell_type": "code",
   "execution_count": 3,
   "metadata": {},
   "outputs": [],
   "source": [
    "from sklearn.model_selection import train_test_split\n",
    "from sklearn.compose import ColumnTransformer\n",
    "from sklearn.impute import SimpleImputer\n",
    "from sklearn.preprocessing import OneHotEncoder\n",
    "from sklearn.preprocessing import MinMaxScaler\n",
    "from sklearn.pipeline import Pipeline,make_pipeline\n",
    "from sklearn.feature_selection import SelectKBest,chi2\n",
    "from sklearn.tree import DecisionTreeClassifier"
   ]
  },
  {
   "cell_type": "code",
   "execution_count": null,
   "metadata": {},
   "outputs": [],
   "source": []
  }
 ],
 "metadata": {
  "language_info": {
   "name": "python"
  }
 },
 "nbformat": 4,
 "nbformat_minor": 2
}
