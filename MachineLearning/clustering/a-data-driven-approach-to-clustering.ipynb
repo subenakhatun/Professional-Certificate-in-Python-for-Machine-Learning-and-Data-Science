{
 "cells": [
  {
   "cell_type": "markdown",
   "metadata": {},
   "source": [
    "### marketing_campaign -- apply cluster"
   ]
  },
  {
   "cell_type": "code",
   "execution_count": 1,
   "metadata": {},
   "outputs": [],
   "source": [
    "# import all\n",
    "import pandas as pd\n",
    "import numpy as np\n",
    "import matplotlib.pyplot as plt\n",
    "import seaborn as sns"
   ]
  },
  {
   "cell_type": "code",
   "execution_count": 2,
   "metadata": {},
   "outputs": [],
   "source": [
    "# for clusterting\n",
    "from sklearn.cluster import KMeans,DBSCAN\n",
    "# For silhouette_score\n",
    "from sklearn.metrics import silhouette_score\n",
    "# For PCA if need somwhere to apply\n",
    "from sklearn.decomposition import PCA\n",
    "# for time formating\n",
    "from datetime import datetime\n",
    "# for fratures \n",
    "from sklearn.mixture import GaussianMixture\n",
    "# feteure engineering\n",
    "from sklearn.cluster import MeanShift\n",
    "# for clustering\n",
    "from scipy.cluster.hierarchy import linkage, dendrogram, fcluster\n",
    "# scaling\n",
    "from sklearn.preprocessing import StandardScaler\n",
    "# for wrnings unnecessasy\n",
    "import warnings \n",
    "warnings.filterwarnings(\"ignore\")"
   ]
  },
  {
   "cell_type": "code",
   "execution_count": null,
   "metadata": {},
   "outputs": [],
   "source": []
  }
 ],
 "metadata": {
  "kernelspec": {
   "display_name": "Python 3",
   "language": "python",
   "name": "python3"
  },
  "language_info": {
   "codemirror_mode": {
    "name": "ipython",
    "version": 3
   },
   "file_extension": ".py",
   "mimetype": "text/x-python",
   "name": "python",
   "nbconvert_exporter": "python",
   "pygments_lexer": "ipython3",
   "version": "3.12.1"
  }
 },
 "nbformat": 4,
 "nbformat_minor": 2
}
